{
  "nbformat": 4,
  "nbformat_minor": 0,
  "metadata": {
    "colab": {
      "provenance": []
    },
    "kernelspec": {
      "name": "python3",
      "display_name": "Python 3"
    },
    "language_info": {
      "name": "python"
    }
  },
  "cells": [
    {
      "cell_type": "markdown",
      "source": [
        "# BBC micro:bit Development in Codespaces\n",
        "\n",
        "This notebook guides you through editing your MicroPython code and compiling it into a `.hex` file for the BBC micro:bit."
      ],
      "metadata": {
        "id": "PwGD980xhzIq"
      }
    },
    {
      "cell_type": "code",
      "execution_count": null,
      "metadata": {
        "id": "CBB19ru3htBq"
      },
      "outputs": [],
      "source": [
        "from pathlib import Path\n",
        "\n",
        "source = Path(\"../main.py\")\n",
        "if not source.exists():\n",
        "    source.write_text(\"from microbit import *\\n\\n# your code here\")\n",
        "\n",
        "print(f\"Editing: {source.resolve()}\")"
      ]
    },
    {
      "cell_type": "code",
      "source": [
        "print(source.read_text())"
      ],
      "metadata": {
        "id": "UqpHGx4Bh6yF"
      },
      "execution_count": null,
      "outputs": []
    },
    {
      "cell_type": "code",
      "source": [
        "import uflash\n",
        "\n",
        "output = Path(\"main.hex\")\n",
        "uflash.flash(str(source), hex_path=str(output), auto_flash=False)\n",
        "\n",
        "print(f\"Compiled: {output.resolve()}\")"
      ],
      "metadata": {
        "id": "dBQO8-Dch7oY"
      },
      "execution_count": null,
      "outputs": []
    },
    {
      "cell_type": "code",
      "source": [
        "from IPython.display import FileLink\n",
        "FileLink(output.name)"
      ],
      "metadata": {
        "id": "N7M0Ie5dh9ii"
      },
      "execution_count": null,
      "outputs": []
    }
  ]
}